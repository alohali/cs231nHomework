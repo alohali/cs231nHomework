{
 "cells": [
  {
   "cell_type": "markdown",
   "metadata": {},
   "source": [
    "# Softmax exercise\n",
    "\n",
    "*Complete and hand in this completed worksheet (including its outputs and any supporting code outside of the worksheet) with your assignment submission. For more details see the [assignments page](http://vision.stanford.edu/teaching/cs231n/assignments.html) on the course website.*\n",
    "\n",
    "This exercise is analogous to the SVM exercise. You will:\n",
    "\n",
    "- implement a fully-vectorized **loss function** for the Softmax classifier\n",
    "- implement the fully-vectorized expression for its **analytic gradient**\n",
    "- **check your implementation** with numerical gradient\n",
    "- use a validation set to **tune the learning rate and regularization** strength\n",
    "- **optimize** the loss function with **SGD**\n",
    "- **visualize** the final learned weights\n"
   ]
  },
  {
   "cell_type": "code",
   "execution_count": 2,
   "metadata": {
    "collapsed": false
   },
   "outputs": [],
   "source": [
    "import random\n",
    "import numpy as np\n",
    "from cs231n.data_utils import load_CIFAR10\n",
    "import matplotlib.pyplot as plt\n",
    "%matplotlib inline\n",
    "plt.rcParams['figure.figsize'] = (10.0, 8.0) # set default size of plots\n",
    "plt.rcParams['image.interpolation'] = 'nearest'\n",
    "plt.rcParams['image.cmap'] = 'gray'\n",
    "\n",
    "# for auto-reloading extenrnal modules\n",
    "# see http://stackoverflow.com/questions/1907993/autoreload-of-modules-in-ipython\n",
    "%load_ext autoreload\n",
    "%autoreload 2"
   ]
  },
  {
   "cell_type": "code",
   "execution_count": 3,
   "metadata": {
    "collapsed": false
   },
   "outputs": [
    {
     "name": "stdout",
     "output_type": "stream",
     "text": [
      "Train data shape:  (49000L, 3073L)\n",
      "Train labels shape:  (49000L,)\n",
      "Validation data shape:  (1000L, 3073L)\n",
      "Validation labels shape:  (1000L,)\n",
      "Test data shape:  (1000L, 3073L)\n",
      "Test labels shape:  (1000L,)\n",
      "dev data shape:  (500L, 3073L)\n",
      "dev labels shape:  (500L,)\n"
     ]
    }
   ],
   "source": [
    "def get_CIFAR10_data(num_training=49000, num_validation=1000, num_test=1000, num_dev=500):\n",
    "  \"\"\"\n",
    "  Load the CIFAR-10 dataset from disk and perform preprocessing to prepare\n",
    "  it for the linear classifier. These are the same steps as we used for the\n",
    "  SVM, but condensed to a single function.  \n",
    "  \"\"\"\n",
    "  # Load the raw CIFAR-10 data\n",
    "  cifar10_dir = 'cs231n/datasets/cifar-10-batches-py'\n",
    "  X_train, y_train, X_test, y_test = load_CIFAR10(cifar10_dir)\n",
    "  \n",
    "  # subsample the data\n",
    "  mask = range(num_training, num_training + num_validation)\n",
    "  X_val = X_train[mask]\n",
    "  y_val = y_train[mask]\n",
    "  mask = range(num_training)\n",
    "  X_train = X_train[mask]\n",
    "  y_train = y_train[mask]\n",
    "  mask = range(num_test)\n",
    "  X_test = X_test[mask]\n",
    "  y_test = y_test[mask]\n",
    "  mask = np.random.choice(num_training, num_dev, replace=False)\n",
    "  X_dev = X_train[mask]\n",
    "  y_dev = y_train[mask]\n",
    "  \n",
    "  # Preprocessing: reshape the image data into rows\n",
    "  X_train = np.reshape(X_train, (X_train.shape[0], -1))\n",
    "  X_val = np.reshape(X_val, (X_val.shape[0], -1))\n",
    "  X_test = np.reshape(X_test, (X_test.shape[0], -1))\n",
    "  X_dev = np.reshape(X_dev, (X_dev.shape[0], -1))\n",
    "  \n",
    "  # Normalize the data: subtract the mean image\n",
    "  mean_image = np.mean(X_train, axis = 0)\n",
    "  X_train -= mean_image\n",
    "  X_val -= mean_image\n",
    "  X_test -= mean_image\n",
    "  X_dev -= mean_image\n",
    "  \n",
    "  # add bias dimension and transform into columns\n",
    "  X_train = np.hstack([X_train, np.ones((X_train.shape[0], 1))])\n",
    "  X_val = np.hstack([X_val, np.ones((X_val.shape[0], 1))])\n",
    "  X_test = np.hstack([X_test, np.ones((X_test.shape[0], 1))])\n",
    "  X_dev = np.hstack([X_dev, np.ones((X_dev.shape[0], 1))])\n",
    "  \n",
    "  return X_train, y_train, X_val, y_val, X_test, y_test, X_dev, y_dev\n",
    "\n",
    "\n",
    "# Invoke the above function to get our data.\n",
    "X_train, y_train, X_val, y_val, X_test, y_test, X_dev, y_dev = get_CIFAR10_data()\n",
    "print 'Train data shape: ', X_train.shape\n",
    "print 'Train labels shape: ', y_train.shape\n",
    "print 'Validation data shape: ', X_val.shape\n",
    "print 'Validation labels shape: ', y_val.shape\n",
    "print 'Test data shape: ', X_test.shape\n",
    "print 'Test labels shape: ', y_test.shape\n",
    "print 'dev data shape: ', X_dev.shape\n",
    "print 'dev labels shape: ', y_dev.shape"
   ]
  },
  {
   "cell_type": "markdown",
   "metadata": {},
   "source": [
    "## Softmax Classifier\n",
    "\n",
    "Your code for this section will all be written inside **cs231n/classifiers/softmax.py**. \n"
   ]
  },
  {
   "cell_type": "code",
   "execution_count": 4,
   "metadata": {
    "collapsed": false
   },
   "outputs": [
    {
     "name": "stdout",
     "output_type": "stream",
     "text": [
      "loss: 2.357670\n",
      "sanity check: 2.302585\n"
     ]
    }
   ],
   "source": [
    "# First implement the naive softmax loss function with nested loops.\n",
    "# Open the file cs231n/classifiers/softmax.py and implement the\n",
    "# softmax_loss_naive function.\n",
    "\n",
    "from cs231n.classifiers.softmax import softmax_loss_naive\n",
    "import time\n",
    "\n",
    "# Generate a random softmax weight matrix and use it to compute the loss.\n",
    "W = np.random.randn(3073, 10) * 0.0001\n",
    "loss, grad = softmax_loss_naive(W, X_dev, y_dev, 0.0)\n",
    "\n",
    "# As a rough sanity check, our loss should be something close to -log(0.1).\n",
    "print 'loss: %f' % loss\n",
    "print 'sanity check: %f' % (-np.log(0.1))"
   ]
  },
  {
   "cell_type": "markdown",
   "metadata": {},
   "source": [
    "## Inline Question 1:\n",
    "Why do we expect our loss to be close to -log(0.1)? Explain briefly.**\n",
    "\n",
    "**Your answer:** *Fill this in*\n"
   ]
  },
  {
   "cell_type": "code",
   "execution_count": 5,
   "metadata": {
    "collapsed": false
   },
   "outputs": [
    {
     "name": "stdout",
     "output_type": "stream",
     "text": [
      "numerical: 0.157742 analytic: 0.157742, relative error: 7.856653e-08\n",
      "numerical: -0.483185 analytic: -0.483185, relative error: 2.177676e-07\n",
      "numerical: -3.384829 analytic: -3.384829, relative error: 2.678798e-09\n",
      "numerical: 2.115456 analytic: 2.115456, relative error: 3.995847e-08\n",
      "numerical: 0.735706 analytic: 0.735706, relative error: 5.613104e-09\n",
      "numerical: 0.658025 analytic: 0.658025, relative error: 9.191863e-08\n",
      "numerical: -1.574898 analytic: -1.574898, relative error: 1.600638e-08\n",
      "numerical: -0.520397 analytic: -0.520397, relative error: 1.193943e-07\n",
      "numerical: 3.285723 analytic: 3.285723, relative error: 8.415999e-09\n",
      "numerical: -0.268349 analytic: -0.268349, relative error: 1.088516e-07\n",
      "numerical: 2.914332 analytic: 2.914332, relative error: 1.227157e-08\n",
      "numerical: 1.450870 analytic: 1.450870, relative error: 2.825226e-08\n",
      "numerical: 1.394639 analytic: 1.394639, relative error: 4.753999e-08\n",
      "numerical: -0.132226 analytic: -0.132226, relative error: 9.275857e-07\n",
      "numerical: -0.374810 analytic: -0.374810, relative error: 9.304484e-08\n",
      "numerical: -0.475720 analytic: -0.475720, relative error: 7.902407e-08\n",
      "numerical: 1.287831 analytic: 1.287831, relative error: 1.253130e-08\n",
      "numerical: 4.355587 analytic: 4.355587, relative error: 2.220837e-08\n",
      "numerical: 2.017053 analytic: 2.017053, relative error: 2.279553e-08\n",
      "numerical: -0.152927 analytic: -0.152927, relative error: 1.725599e-07\n"
     ]
    }
   ],
   "source": [
    "# Complete the implementation of softmax_loss_naive and implement a (naive)\n",
    "# version of the gradient that uses nested loops.\n",
    "loss, grad = softmax_loss_naive(W, X_dev, y_dev, 0.0)\n",
    "\n",
    "# As we did for the SVM, use numeric gradient checking as a debugging tool.\n",
    "# The numeric gradient should be close to the analytic gradient.\n",
    "from cs231n.gradient_check import grad_check_sparse\n",
    "f = lambda w: softmax_loss_naive(w, X_dev, y_dev, 0.0)[0]\n",
    "grad_numerical = grad_check_sparse(f, W, grad, 10)\n",
    "\n",
    "# similar to SVM case, do another gradient check with regularization\n",
    "loss, grad = softmax_loss_naive(W, X_dev, y_dev, 1e2)\n",
    "f = lambda w: softmax_loss_naive(w, X_dev, y_dev, 1e2)[0]\n",
    "grad_numerical = grad_check_sparse(f, W, grad, 10)"
   ]
  },
  {
   "cell_type": "code",
   "execution_count": 12,
   "metadata": {
    "collapsed": false
   },
   "outputs": [
    {
     "name": "stdout",
     "output_type": "stream",
     "text": [
      "naive loss: 2.357670e+00 computed in 0.140000s\n",
      "((3073L, 10L), (500L, 3073L), (500L, 10L))\n",
      "vectorized loss: 2.357670e+00 computed in 0.000000s\n",
      "Loss difference: 0.000000\n",
      "Gradient difference: 0.000000\n"
     ]
    }
   ],
   "source": [
    "# Now that we have a naive implementation of the softmax loss function and its gradient,\n",
    "# implement a vectorized version in softmax_loss_vectorized.\n",
    "# The two versions should compute the same results, but the vectorized version should be\n",
    "# much faster.\n",
    "tic = time.time()\n",
    "loss_naive, grad_naive = softmax_loss_naive(W, X_dev, y_dev, 0.00001)\n",
    "toc = time.time()\n",
    "print 'naive loss: %e computed in %fs' % (loss_naive, toc - tic)\n",
    "\n",
    "from cs231n.classifiers.softmax import softmax_loss_vectorized\n",
    "tic = time.time()\n",
    "loss_vectorized, grad_vectorized = softmax_loss_vectorized(W, X_dev, y_dev, 0.00001)\n",
    "toc = time.time()\n",
    "print 'vectorized loss: %e computed in %fs' % (loss_vectorized, toc - tic)\n",
    "\n",
    "# As we did for the SVM, we use the Frobenius norm to compare the two versions\n",
    "# of the gradient.\n",
    "grad_difference = np.linalg.norm(grad_naive - grad_vectorized, ord='fro')\n",
    "print 'Loss difference: %f' % np.abs(loss_naive - loss_vectorized)\n",
    "print 'Gradient difference: %f' % grad_difference"
   ]
  },
  {
   "cell_type": "code",
   "execution_count": 17,
   "metadata": {
    "collapsed": false
   },
   "outputs": [
    {
     "name": "stdout",
     "output_type": "stream",
     "text": [
      "iteration 0 / 4000: loss 83.050527\n",
      "iteration 100 / 4000: loss 49.163257\n",
      "iteration 200 / 4000: loss 30.225577\n",
      "iteration 300 / 4000: loss 18.960104\n",
      "iteration 400 / 4000: loss 12.173708\n",
      "iteration 500 / 4000: loss 8.103757\n",
      "iteration 600 / 4000: loss 5.612716\n",
      "iteration 700 / 4000: loss 4.155770\n",
      "iteration 800 / 4000: loss 3.240840\n",
      "iteration 900 / 4000: loss 2.688467\n",
      "iteration 1000 / 4000: loss 2.452941\n",
      "iteration 1100 / 4000: loss 2.184332\n",
      "iteration 1200 / 4000: loss 2.061673\n",
      "iteration 1300 / 4000: loss 1.982169\n",
      "iteration 1400 / 4000: loss 1.896270\n",
      "iteration 1500 / 4000: loss 1.902719\n",
      "iteration 1600 / 4000: loss 1.837737\n",
      "iteration 1700 / 4000: loss 1.879238\n",
      "iteration 1800 / 4000: loss 1.917557\n",
      "iteration 1900 / 4000: loss 1.891017\n",
      "iteration 2000 / 4000: loss 1.859747\n",
      "iteration 2100 / 4000: loss 1.981787\n",
      "iteration 2200 / 4000: loss 1.893005\n",
      "iteration 2300 / 4000: loss 1.815629\n",
      "iteration 2400 / 4000: loss 1.905601\n",
      "iteration 2500 / 4000: loss 1.845000\n",
      "iteration 2600 / 4000: loss 1.884745\n",
      "iteration 2700 / 4000: loss 1.878305\n",
      "iteration 2800 / 4000: loss 1.975846\n",
      "iteration 2900 / 4000: loss 1.893937\n",
      "iteration 3000 / 4000: loss 1.823213\n",
      "iteration 3100 / 4000: loss 1.896873\n",
      "iteration 3200 / 4000: loss 1.847063\n",
      "iteration 3300 / 4000: loss 1.938858\n",
      "iteration 3400 / 4000: loss 1.904973\n",
      "iteration 3500 / 4000: loss 1.845823\n",
      "iteration 3600 / 4000: loss 1.910284\n",
      "iteration 3700 / 4000: loss 1.927399\n",
      "iteration 3800 / 4000: loss 1.922673\n",
      "iteration 3900 / 4000: loss 1.958496\n",
      "lr rs 0.000000 5000.000000,accuracy: 0.391204 0.400000\n",
      "iteration 0 / 4000: loss 21.470615\n",
      "iteration 100 / 4000: loss 16.613946\n",
      "iteration 200 / 4000: loss 15.047303\n",
      "iteration 300 / 4000: loss 13.606464\n",
      "iteration 400 / 4000: loss 12.340049\n",
      "iteration 500 / 4000: loss 11.246397\n",
      "iteration 600 / 4000: loss 10.159318\n",
      "iteration 700 / 4000: loss 9.207010\n",
      "iteration 800 / 4000: loss 8.535411\n",
      "iteration 900 / 4000: loss 7.948767\n",
      "iteration 1000 / 4000: loss 7.290863\n",
      "iteration 1100 / 4000: loss 6.735286\n",
      "iteration 1200 / 4000: loss 6.294780\n",
      "iteration 1300 / 4000: loss 5.828429\n",
      "iteration 1400 / 4000: loss 5.496092\n",
      "iteration 1500 / 4000: loss 5.005147\n",
      "iteration 1600 / 4000: loss 4.739825\n",
      "iteration 1700 / 4000: loss 4.463366\n",
      "iteration 1800 / 4000: loss 4.097438\n",
      "iteration 1900 / 4000: loss 3.885713\n",
      "iteration 2000 / 4000: loss 3.852974\n",
      "iteration 2100 / 4000: loss 3.653646\n",
      "iteration 2200 / 4000: loss 3.319891\n",
      "iteration 2300 / 4000: loss 3.152751\n",
      "iteration 2400 / 4000: loss 3.115055\n",
      "iteration 2500 / 4000: loss 2.960107\n",
      "iteration 2600 / 4000: loss 2.908884\n",
      "iteration 2700 / 4000: loss 2.850416\n",
      "iteration 2800 / 4000: loss 2.682563\n",
      "iteration 2900 / 4000: loss 2.583960\n",
      "iteration 3000 / 4000: loss 2.633171\n",
      "iteration 3100 / 4000: loss 2.484669\n",
      "iteration 3200 / 4000: loss 2.171932\n",
      "iteration 3300 / 4000: loss 2.330799\n",
      "iteration 3400 / 4000: loss 2.281232\n",
      "iteration 3500 / 4000: loss 2.171543\n",
      "iteration 3600 / 4000: loss 2.114094\n",
      "iteration 3700 / 4000: loss 2.113312\n",
      "iteration 3800 / 4000: loss 2.199137\n",
      "iteration 3900 / 4000: loss 2.118846\n",
      "lr rs 0.000000 1000.000000,accuracy: 0.414918 0.406000\n",
      "lr 5.000000e-07 reg 1.000000e+03 train accuracy: 0.414918 val accuracy: 0.406000\n",
      "lr 5.000000e-07 reg 5.000000e+03 train accuracy: 0.391204 val accuracy: 0.400000\n",
      "best validation accuracy achieved during cross-validation: 0.406000\n"
     ]
    }
   ],
   "source": [
    "# Use the validation set to tune hyperparameters (regularization strength and\n",
    "# learning rate). You should experiment with different ranges for the learning\n",
    "# rates and regularization strengths; if you are careful you should be able to\n",
    "# get a classification accuracy of over 0.35 on the validation set.\n",
    "from cs231n.classifiers import Softmax\n",
    "results = {}\n",
    "best_val = -1\n",
    "best_softmax = None\n",
    "learning_rates = [5e-7]\n",
    "regularization_strengths = [5e3]\n",
    "\n",
    "################################################################################\n",
    "# TODO:                                                                        #\n",
    "# Use the validation set to set the learning rate and regularization strength. #\n",
    "# This should be identical to the validation that you did for the SVM; save    #\n",
    "# the best trained softmax classifer in best_softmax.                          #\n",
    "################################################################################\n",
    "iters = 4000\n",
    "for lr in learning_rates:\n",
    "    for rs in regularization_strengths:\n",
    "        softmax = Softmax()\n",
    "        softmax.train(X_train, y_train, learning_rate=lr, reg=rs, num_iters=iters,verbose=True)\n",
    "        \n",
    "        y_train_pred = softmax.predict(X_train)\n",
    "        acc_train = np.mean(y_train == y_train_pred)\n",
    "        y_val_pred = softmax.predict(X_val)\n",
    "        acc_val = np.mean(y_val == y_val_pred)\n",
    "        \n",
    "        results[(lr, rs)] = (acc_train, acc_val)\n",
    "        print 'lr rs %f %f,accuracy: %f %f' % (lr,rs,acc_train,acc_val)\n",
    "        if best_val < acc_val:\n",
    "            best_val = acc_val\n",
    "            best_softmax = softmax\n",
    "    \n",
    "################################################################################\n",
    "#                              END OF YOUR CODE                                #\n",
    "################################################################################\n",
    "    \n",
    "# Print out results.\n",
    "for lr, reg in sorted(results):\n",
    "    train_accuracy, val_accuracy = results[(lr, reg)]\n",
    "    print 'lr %e reg %e train accuracy: %f val accuracy: %f' % (\n",
    "                lr, reg, train_accuracy, val_accuracy)\n",
    "    \n",
    "print 'best validation accuracy achieved during cross-validation: %f' % best_val"
   ]
  },
  {
   "cell_type": "code",
   "execution_count": 15,
   "metadata": {
    "collapsed": false
   },
   "outputs": [
    {
     "name": "stdout",
     "output_type": "stream",
     "text": [
      "softmax on raw pixels final test set accuracy: 0.361000\n"
     ]
    }
   ],
   "source": [
    "# evaluate on test set\n",
    "# Evaluate the best softmax on test set\n",
    "y_test_pred = best_softmax.predict(X_test)\n",
    "test_accuracy = np.mean(y_test == y_test_pred)\n",
    "print 'softmax on raw pixels final test set accuracy: %f' % (test_accuracy, )"
   ]
  },
  {
   "cell_type": "code",
   "execution_count": 18,
   "metadata": {
    "collapsed": false
   },
   "outputs": [
    {
     "data": {
      "image/png": "[encoded data removed]",
      "text/plain": [
       "<matplotlib.figure.Figure at 0x7a07908>"
      ]
     },
     "metadata": {},
     "output_type": "display_data"
    }
   ],
   "source": [
    "# Visualize the learned weights for each class\n",
    "w = best_softmax.W[:-1,:] # strip out the bias\n",
    "w = w.reshape(32, 32, 3, 10)\n",
    "\n",
    "w_min, w_max = np.min(w), np.max(w)\n",
    "\n",
    "classes = ['plane', 'car', 'bird', 'cat', 'deer', 'dog', 'frog', 'horse', 'ship', 'truck']\n",
    "for i in xrange(10):\n",
    "  plt.subplot(2, 5, i + 1)\n",
    "  \n",
    "  # Rescale the weights to be between 0 and 255\n",
    "  wimg = 255.0 * (w[:, :, :, i].squeeze() - w_min) / (w_max - w_min)\n",
    "  plt.imshow(wimg.astype('uint8'))\n",
    "  plt.axis('off')\n",
    "  plt.title(classes[i])"
   ]
  },
  {
   "cell_type": "code",
   "execution_count": null,
   "metadata": {
    "collapsed": true
   },
   "outputs": [],
   "source": []
  }
 ],
 "metadata": {
  "kernelspec": {
   "display_name": "Python 2",
   "language": "python",
   "name": "python2"
  },
  "language_info": {
   "codemirror_mode": {
    "name": "ipython",
    "version": 2
   },
   "file_extension": ".py",
   "mimetype": "text/x-python",
   "name": "python",
   "nbconvert_exporter": "python",
   "pygments_lexer": "ipython2",
   "version": "2.7.11"
  }
 },
 "nbformat": 4,
 "nbformat_minor": 0
}
